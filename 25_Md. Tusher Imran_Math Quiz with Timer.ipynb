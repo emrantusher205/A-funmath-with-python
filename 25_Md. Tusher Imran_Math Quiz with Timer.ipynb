{
 "cells": [
  {
   "cell_type": "markdown",
   "id": "ab6cb85d-c5ef-4b4f-95a4-5fef9c968ccc",
   "metadata": {},
   "source": [
    "# Math Quiz with Timer"
   ]
  },
  {
   "cell_type": "markdown",
   "id": "7f6db1c9-50da-4989-8713-b0774bb26c3d",
   "metadata": {},
   "source": [
    "## Objectives:\n",
    "1. Randomly Generate 10 Math question\n",
    "2. if Worng answer given untill you correct the answer the program will run in loop\n",
    "3. After giving all the correct answer the program will show you the time you have taken\n",
    "\n",
    "Hence by this simple math quiz program you can check your accuracy in math logic. "
   ]
  },
  {
   "cell_type": "code",
   "execution_count": 1,
   "id": "e243f07c-3ba1-4931-ba0c-144fa9240ea1",
   "metadata": {},
   "outputs": [
    {
     "name": "stdin",
     "output_type": "stream",
     "text": [
      "Press enter to start! \n"
     ]
    },
    {
     "name": "stdout",
     "output_type": "stream",
     "text": [
      "----------------------\n"
     ]
    },
    {
     "name": "stdin",
     "output_type": "stream",
     "text": [
      "Problem #1: 7 * 7 =  49\n",
      "Problem #2: 4 - 11 =  -7\n",
      "Problem #3: 10 - 5 =  5\n",
      "Problem #4: 3 * 8 =  24\n",
      "Problem #5: 10 * 8 =  70\n",
      "Problem #5: 10 * 8 =  80\n",
      "Problem #6: 7 + 9 =  16\n",
      "Problem #7: 8 - 3 =  1\n",
      "Problem #7: 8 - 3 =  2\n",
      "Problem #7: 8 - 3 =  4\n",
      "Problem #7: 8 - 3 =  5\n",
      "Problem #8: 12 - 12 =  0\n",
      "Problem #9: 10 + 7 =  17\n",
      "Problem #10: 5 - 8 =  -3\n"
     ]
    },
    {
     "name": "stdout",
     "output_type": "stream",
     "text": [
      "----------------------\n",
      "Nice work! You finished in 74.78 seconds!\n"
     ]
    }
   ],
   "source": [
    "import random\n",
    "import time\n",
    "\n",
    "OPERATORS = [\"+\", \"-\", \"*\",/]\n",
    "MIN_OPERAND = 3\n",
    "MAX_OPERAND = 12\n",
    "TOTAL_PROBLEMS = 10\n",
    "\n",
    "\n",
    "def generate_problem():\n",
    "    left = random.randint(MIN_OPERAND, MAX_OPERAND)\n",
    "    right = random.randint(MIN_OPERAND, MAX_OPERAND)\n",
    "    operator = random.choice(OPERATORS)\n",
    "\n",
    "    expr = str(left) + \" \" + operator + \" \" + str(right)\n",
    "    answer = eval(expr)\n",
    "    return expr, answer\n",
    "\n",
    "\n",
    "wrong = 0\n",
    "input(\"Press enter to start!\")\n",
    "print(\"----------------------\")\n",
    "\n",
    "start_time = time.time()\n",
    "\n",
    "for i in range(TOTAL_PROBLEMS):\n",
    "    expr, answer = generate_problem()\n",
    "    while True:\n",
    "        guess = input(\"Problem #\" + str(i + 1) + \": \" + expr + \" = \")\n",
    "        if guess == str(answer):\n",
    "            break\n",
    "        wrong += 1\n",
    "\n",
    "end_time = time.time()\n",
    "total_time = round(end_time - start_time, 2)\n",
    "\n",
    "print(\"----------------------\")\n",
    "print(\"Nice work! You finished in\", total_time, \"seconds!\")\n"
   ]
  }
 ],
 "metadata": {
  "kernelspec": {
   "display_name": "Python 3 (ipykernel)",
   "language": "python",
   "name": "python3"
  },
  "language_info": {
   "codemirror_mode": {
    "name": "ipython",
    "version": 3
   },
   "file_extension": ".py",
   "mimetype": "text/x-python",
   "name": "python",
   "nbconvert_exporter": "python",
   "pygments_lexer": "ipython3",
   "version": "3.11.7"
  }
 },
 "nbformat": 4,
 "nbformat_minor": 5
}
